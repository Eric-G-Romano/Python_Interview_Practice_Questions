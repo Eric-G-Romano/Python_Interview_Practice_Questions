{
 "cells": [
  {
   "cell_type": "markdown",
   "id": "9b708db9",
   "metadata": {},
   "source": [
    "### Remove Duplicates from Sorted Array\n",
    "Given an integer array nums sorted in non-decreasing order, remove the duplicates in-place such that each unique element appears only once. The relative order of the elements should be kept the same.\n",
    "\n",
    "Since it is impossible to change the length of the array in some languages, you must instead have the result be placed in the first part of the array nums. More formally, if there are k elements after removing the duplicates, then the first k elements of nums should hold the final result. It does not matter what you leave beyond the first k elements.\n",
    "\n",
    "Return k after placing the final result in the first k slots of nums.\n",
    "\n",
    "Do not allocate extra space for another array. You must do this by modifying the input array in-place with O(1) extra memory.\n",
    "\n",
    "Custom Judge:\n",
    "\n",
    "The judge will test your solution with the following code:\n",
    "\n",
    "Input: nums = [1,1,2]\n",
    "Output: 2, nums = [1,2,_]\n",
    "Explanation: Your function should return k = 2, with the first two elements of nums being 1 and 2 respectively.\n",
    "It does not matter what you leave beyond the returned k (hence they are underscores).\n",
    "\n",
    "Credits to the problem can be found from leetcode.com"
   ]
  },
  {
   "cell_type": "code",
   "execution_count": 13,
   "id": "563a4371",
   "metadata": {},
   "outputs": [],
   "source": [
    "def removeduplicate(array):\n",
    "    array.sort()\n",
    "    i=0\n",
    "    while i < len(array)-1:\n",
    "        if array[i] == array[i+1]:\n",
    "            del array[i]\n",
    "        else:\n",
    "            i += 1\n",
    "    return array"
   ]
  },
  {
   "cell_type": "code",
   "execution_count": 14,
   "id": "3b466033",
   "metadata": {},
   "outputs": [
    {
     "data": {
      "text/plain": [
       "[1, 2, 3, 4]"
      ]
     },
     "execution_count": 14,
     "metadata": {},
     "output_type": "execute_result"
    }
   ],
   "source": [
    "delete_duplicate = [1,1,2,3,3,4,4,4]\n",
    "removeduplicate(delete_duplicate)"
   ]
  },
  {
   "cell_type": "code",
   "execution_count": 15,
   "id": "ef518411",
   "metadata": {},
   "outputs": [
    {
     "data": {
      "text/plain": [
       "[1, 2, 3, 5, 6]"
      ]
     },
     "execution_count": 15,
     "metadata": {},
     "output_type": "execute_result"
    }
   ],
   "source": [
    "delete_duplicate = [3,5,6,2,2,1,1,1,6,5]\n",
    "removeduplicate(delete_duplicate)"
   ]
  },
  {
   "cell_type": "markdown",
   "id": "dfc03b7b",
   "metadata": {},
   "source": [
    "### Identify Duplicates\n",
    "Identify the elements in the arrary that are duplicates and return them in a new array "
   ]
  },
  {
   "cell_type": "code",
   "execution_count": 23,
   "id": "ef3828ad",
   "metadata": {},
   "outputs": [],
   "source": [
    "def identifyduplicates(array):\n",
    "    array.sort()\n",
    "    duplicates=[]\n",
    "    i=0\n",
    "    while i < len(array)-1:\n",
    "        if array[i] == array[i+1]:\n",
    "            duplicates.append(array[i])\n",
    "            i += 1\n",
    "        else:\n",
    "            i += 1\n",
    "    j=0\n",
    "    while j < len(duplicates)-1:\n",
    "        if duplicates[j] == duplicates[j+1]:\n",
    "            del duplicates[j]\n",
    "        else:\n",
    "            j += 1\n",
    "    return duplicates\n",
    "        "
   ]
  },
  {
   "cell_type": "code",
   "execution_count": 24,
   "id": "992e7d98",
   "metadata": {},
   "outputs": [
    {
     "data": {
      "text/plain": [
       "[1, 2, 5, 6]"
      ]
     },
     "execution_count": 24,
     "metadata": {},
     "output_type": "execute_result"
    }
   ],
   "source": [
    "id_duplicate = [3,5,6,2,2,1,1,1,6,5]\n",
    "identifyduplicates(id_duplicate)"
   ]
  },
  {
   "cell_type": "markdown",
   "id": "50c315cc",
   "metadata": {},
   "source": [
    "### Count method"
   ]
  },
  {
   "cell_type": "markdown",
   "id": "63c59308",
   "metadata": {},
   "source": [
    "Using python's collections.counter to find all duplicates in a array\n",
    "Using collections.Counter in python allows us to count the frequencies of the elements in an array or list in python. The using list comprehensions to create a list duplicate elements in an array by checking if the frequency is greater than 1"
   ]
  },
  {
   "cell_type": "code",
   "execution_count": 3,
   "id": "c4dc2796",
   "metadata": {},
   "outputs": [],
   "source": [
    "import collections"
   ]
  },
  {
   "cell_type": "code",
   "execution_count": 5,
   "id": "08562b6d",
   "metadata": {},
   "outputs": [],
   "source": [
    "def id_duplicate(array):\n",
    "    c = collections.Counter(array)\n",
    "    return set([x for x in array if c[x] > 1])"
   ]
  },
  {
   "cell_type": "code",
   "execution_count": 6,
   "id": "809c65c4",
   "metadata": {},
   "outputs": [
    {
     "data": {
      "text/plain": [
       "{1, 2, 5, 6}"
      ]
     },
     "execution_count": 6,
     "metadata": {},
     "output_type": "execute_result"
    }
   ],
   "source": [
    "id_duplicates = [3,5,6,2,2,1,1,1,6,5]\n",
    "id_duplicate(id_duplicates)"
   ]
  },
  {
   "cell_type": "markdown",
   "id": "adb740c6",
   "metadata": {},
   "source": [
    "### Rotate Array\n",
    "Given an array, rotate the array to the right by k steps, where k is non-negative\n",
    "\n",
    "Ex:\n",
    "Input: nums = [1,2,3,4,5,6,7], k = 3\n",
    "Output: [5,6,7,1,2,3,4]\n",
    "Explanation:\n",
    "rotate 1 steps to the right: [7,1,2,3,4,5,6]\n",
    "rotate 2 steps to the right: [6,7,1,2,3,4,5]\n",
    "rotate 3 steps to the right: [5,6,7,1,2,3,4]\n",
    "\n",
    "Constraints:\n",
    "\n",
    "1 <= nums.length <= 105\n",
    "-231 <= nums[i] <= 231 - 1\n",
    "0 <= k <= 105\n",
    "\n",
    "Follow up:\n",
    "\n",
    "Try to come up with as many solutions as you can. There are at least three different ways to solve this problem.\n",
    "Could you do it in-place with O(1) extra space?"
   ]
  },
  {
   "cell_type": "code",
   "execution_count": 15,
   "id": "690feb28",
   "metadata": {},
   "outputs": [],
   "source": [
    "def rotate(array, k):\n",
    "    \"\"\"\n",
    "    :type nums: List[int]\n",
    "    :type k: int\n",
    "    :rtype: None Do not return anything, modify nums in-place instead.\n",
    "    \"\"\"\n",
    "    for i in range(0,k):\n",
    "        #store the last element of array\n",
    "        last = array[len(array)-1];\n",
    "        \n",
    "        for j in range(len(array)-1, -1, -1):\n",
    "            #Shift element of array by one\n",
    "            array[j] = array[j-1]\n",
    "            \n",
    "            #Last element of the array will be added to the start of the array\n",
    "        array[0] = last;\n",
    "    return array"
   ]
  },
  {
   "cell_type": "code",
   "execution_count": 18,
   "id": "edc69d58",
   "metadata": {},
   "outputs": [
    {
     "data": {
      "text/plain": [
       "[7, 1, 2, 3, 4, 5, 6]"
      ]
     },
     "execution_count": 18,
     "metadata": {},
     "output_type": "execute_result"
    }
   ],
   "source": [
    "arrays=[1,2,3,4,5,6,7]\n",
    "rotate(arrays, 8)"
   ]
  },
  {
   "cell_type": "markdown",
   "id": "a4360d81",
   "metadata": {},
   "source": [
    "## Day 3 "
   ]
  },
  {
   "cell_type": "markdown",
   "id": "39ac4127",
   "metadata": {},
   "source": [
    "### Best Time to Buy and Sell Stock II\n",
    "You are given an array prices where prices[i] is the price of a given stock on the ith day.\n",
    "\n",
    "Find the maximum profit you can achieve. You may complete as many transactions as you like (i.e., buy one and sell one share of the stock multiple times).\n",
    "\n",
    "Note: You may not engage in multiple transactions simultaneously (i.e., you must sell the stock before you buy again).\n"
   ]
  },
  {
   "cell_type": "markdown",
   "id": "f21a8d83",
   "metadata": {},
   "source": [
    "Ex:\n",
    "Input: prices = [7,1,5,3,6,4]\n",
    "Output: 7\n",
    "Explanation: Buy on day 2 (price = 1) and sell on day 3 (price = 5), profit = 5-1 = 4.\n",
    "Then buy on day 4 (price = 3) and sell on day 5 (price = 6), profit = 6-3 = 3.\n",
    "\n",
    "Constraints:\n",
    "\n",
    "1 <= prices.length <= 3 * 104\n",
    "\n",
    "0 <= prices[i] <= 104"
   ]
  },
  {
   "cell_type": "code",
   "execution_count": 45,
   "id": "8ca2d112",
   "metadata": {},
   "outputs": [],
   "source": [
    "def maxProfit(prices):\n",
    "    \"\"\"\n",
    "    :type prices: List[int]\n",
    "    :rtype: int\n",
    "    \"\"\"\n",
    "    #Based on the assumption we like to buy low and sell high in order\n",
    "    #to maximize profits\n",
    "    \n",
    "    price_gain = []\n",
    "    price_run_list = prices\n",
    "    for i in range(len(prices)-1):\n",
    "        for j in range(len(prices)-1):\n",
    "            if prices[i] < price_run_list[j]:\n",
    "                price_gain.append(price_run_list[j]-prices[i])\n",
    "        \n",
    "    return (price_gain)\n",
    "    "
   ]
  },
  {
   "cell_type": "code",
   "execution_count": 27,
   "id": "cb5984db",
   "metadata": {},
   "outputs": [
    {
     "data": {
      "text/plain": [
       "[0, 5, 2, 1, 6]"
      ]
     },
     "execution_count": 27,
     "metadata": {},
     "output_type": "execute_result"
    }
   ],
   "source": [
    "price_list = [7,6,2,1,6]\n",
    "price_list[0] = 0\n",
    "price_list"
   ]
  },
  {
   "cell_type": "code",
   "execution_count": 46,
   "id": "caf9ffc2",
   "metadata": {},
   "outputs": [
    {
     "data": {
      "text/plain": [
       "[2, 5, 3, 6, 4, 1]"
      ]
     },
     "execution_count": 46,
     "metadata": {},
     "output_type": "execute_result"
    }
   ],
   "source": [
    "maxProfit([7,5,2,1,6])"
   ]
  },
  {
   "cell_type": "markdown",
   "id": "03d9ccff",
   "metadata": {},
   "source": [
    "## Contains Duplicate\n",
    "Given an integer array nums, return true if any value appears at least twice in the array, and return false if every element is distinct.\n",
    "\n",
    "Example 1:\n",
    "\n",
    "Input: nums = [1,2,3,1]\n",
    "Output: true\n",
    "\n",
    "Constraints:\n",
    "\n",
    "1 <= nums.length <= 105\n",
    "\n",
    "-109 <= nums[i] <= 109"
   ]
  },
  {
   "cell_type": "code",
   "execution_count": 2,
   "id": "943e7e93",
   "metadata": {},
   "outputs": [],
   "source": [
    "def containsDuplicate(self, nums):\n",
    "    \"\"\"\n",
    "    :type nums: List[int]\n",
    "    :rtype: bool\n",
    "    \"\"\""
   ]
  },
  {
   "cell_type": "markdown",
   "id": "02c49aae",
   "metadata": {},
   "source": [
    "## Day 4"
   ]
  },
  {
   "cell_type": "markdown",
   "id": "37ccdf8c",
   "metadata": {},
   "source": [
    "## Single Number\n",
    "Given a non-empty array of integers nums, every element appears twice except for one. Find that single one.\n",
    "\n",
    "You must implement a solution with a linear runtime complexity and use only constant extra space.\n",
    "\n",
    "Example 1:\n",
    "\n",
    "Input: nums = [2,2,1]\n",
    "Output: 1\n",
    "Example 2:\n",
    "\n",
    "Input: nums = [4,1,2,1,2]\n",
    "Output: 4\n",
    "\n",
    " \n",
    "\n",
    "Constraints:\n",
    "\n",
    "1 <= nums.length <= 3 * 104\n",
    "\n",
    "-3 * 104 <= nums[i] <= 3 * 104\n",
    "\n",
    "Each element in the array appears twice except for one element which appears only once.\n"
   ]
  },
  {
   "cell_type": "code",
   "execution_count": null,
   "id": "324dc663",
   "metadata": {},
   "outputs": [],
   "source": [
    "def singleNumber(self, nums):\n",
    "    \"\"\"\n",
    "    :type nums: List[int]\n",
    "    :rtype: int\n",
    "    \"\"\""
   ]
  },
  {
   "cell_type": "markdown",
   "id": "1c669c43",
   "metadata": {},
   "source": [
    "## Intersection Two Arrays II\n",
    "\n",
    "Given two integer arrays nums1 and nums2, return an array of their intersection. Each element in the result must appear as many times as it shows in both arrays and you may return the result in any order.\n",
    "\n",
    "Example 1:\n",
    "\n",
    "Input: nums1 = [1,2,2,1], nums2 = [2,2]\n",
    "Output: [2,2]\n",
    "\n",
    "Constraints:\n",
    "\n",
    "1 <= nums1.length, nums2.length <= 1000\n",
    "\n",
    "0 <= nums1[i], nums2[i] <= 1000"
   ]
  },
  {
   "cell_type": "markdown",
   "id": "d2415673",
   "metadata": {},
   "source": [
    "Follow up:\n",
    "\n",
    "What if the given array is already sorted?\n",
    "\n",
    "How would you optimize your algorithm?\n",
    "\n",
    "What if nums1's size is small compared to nums2's size?\n",
    "\n",
    "Which algorithm is better?\n",
    "\n",
    "What if elements of nums2 are stored on disk, and the memory is limited such that you cannot load all elements into the memory at once?"
   ]
  },
  {
   "cell_type": "code",
   "execution_count": null,
   "id": "52c82d0d",
   "metadata": {},
   "outputs": [],
   "source": [
    "def intersect(self, nums1, nums2):\n",
    "    \"\"\"\n",
    "    :type nums1: List[int]\n",
    "    :type nums2: List[int]\n",
    "    :rtype: List[int]\n",
    "    \"\"\""
   ]
  },
  {
   "cell_type": "markdown",
   "id": "040cfc2c",
   "metadata": {},
   "source": [
    "## Day 5"
   ]
  },
  {
   "cell_type": "markdown",
   "id": "df563611",
   "metadata": {},
   "source": [
    "## Plus One \n",
    "\n",
    "Given a non-empty array of decimal digits representing a non-negative integer, increment one to the integer.\n",
    "\n",
    "The digits are stored such that the most significant digit is at the head of the list, and each element in the array contains a single digit.\n",
    "\n",
    "You may assume the integer does not contain any leading zero, except the number 0 itself.\n",
    "\n",
    "Example 1:\n",
    "\n",
    "Input: digits = [1,2,3]\n",
    "\n",
    "Output: [1,2,4]\n",
    "\n",
    "Explanation: The array represents the integer 123.\n",
    "\n",
    "Constraints:\n",
    "\n",
    "1 <= digits.length <= 100\n",
    "\n",
    "0 <= digits[i] <= 9"
   ]
  },
  {
   "cell_type": "code",
   "execution_count": null,
   "id": "0c1b0b9d",
   "metadata": {},
   "outputs": [],
   "source": [
    "def plusOne(self, digits):\n",
    "    \"\"\"\n",
    "    :type digits: List[int]\n",
    "    :rtype: List[int]\n",
    "    \"\"\""
   ]
  },
  {
   "cell_type": "markdown",
   "id": "c12dc33e",
   "metadata": {},
   "source": [
    "## Move Zeros\n",
    "\n",
    "Given an integer array nums, move all 0's to the end of it while maintaining the relative order of the non-zero elements.\n",
    "\n",
    "Note that you must do this in-place without making a copy of the array.\n",
    "\n",
    "Example 1:\n",
    "\n",
    "Input: nums = [0,1,0,3,12]\n",
    "\n",
    "Output: [1,3,12,0,0]\n",
    "\n",
    "Constraints:\n",
    "\n",
    "1 <= nums.length <= 104\n",
    "\n",
    "-231 <= nums[i] <= 231 - 1\n",
    "\n",
    "Follow up: Could you minimize the total number of operations done?\n"
   ]
  },
  {
   "cell_type": "code",
   "execution_count": null,
   "id": "6a72b3ed",
   "metadata": {},
   "outputs": [],
   "source": [
    "def moveZeroes(self, nums):\n",
    "    \"\"\"\n",
    "    :type nums: List[int]\n",
    "    :rtype: None Do not return anything, modify nums in-place instead.\n",
    "    \"\"\""
   ]
  },
  {
   "cell_type": "markdown",
   "id": "f576e799",
   "metadata": {},
   "source": [
    "## Day 6"
   ]
  },
  {
   "cell_type": "markdown",
   "id": "b6ad5e82",
   "metadata": {},
   "source": [
    "## Two Sum\n",
    "\n",
    "Given an array of integers nums and an integer target, return indices of the two numbers such that they add up to target.\n",
    "\n",
    "You may assume that each input would have exactly one solution, and you may not use the same element twice.\n",
    "\n",
    "You can return the answer in any order.\n",
    "\n",
    "Example 1:\n",
    "\n",
    "Input: nums = [2,7,11,15], target = 9\n",
    "\n",
    "Output: [0,1]\n",
    "\n",
    "Output: Because nums[0] + nums[1] == 9, we return [0, 1].\n",
    "\n",
    "Constraints:\n",
    "\n",
    "2 <= nums.length <= 104\n",
    "\n",
    "-109 <= nums[i] <= 109\n",
    "\n",
    "-109 <= target <= 109\n",
    "\n",
    "Only one valid answer exists.\n",
    "\n",
    "Follow-up: Can you come up with an algorithm that is less than O(n2) time complexity?"
   ]
  },
  {
   "cell_type": "code",
   "execution_count": 3,
   "id": "d3d6af27",
   "metadata": {},
   "outputs": [],
   "source": [
    "def twoSum(self, nums, target):\n",
    "    \"\"\"\n",
    "    :type nums: List[int]\n",
    "    :type target: int\n",
    "    :rtype: List[int]\n",
    "    \"\"\"\n",
    "        "
   ]
  },
  {
   "attachments": {
    "image.png": {
     "image/png": "[encoded data removed]"
    }
   },
   "cell_type": "markdown",
   "id": "3b336329",
   "metadata": {},
   "source": [
    "## Valid Sudoku\n",
    "\n",
    "Determine if a 9 x 9 Sudoku board is valid. Only the filled cells need to be validated according to the following rules:\n",
    "\n",
    "1. Each row must contain the digits 1-9 without repetition.\n",
    "2. Each column must contain the digits 1-9 without repetition.\n",
    "3. Each of the nine 3 x 3 sub-boxes of the grid must contain the digits 1-9 without repetition.\n",
    "\n",
    "Note:\n",
    "\n",
    "- A Sudoku board (partially filled) could be valid but is not necessarily solvable.\n",
    "- Only the filled cells need to be validated according to the mentioned rules.\n",
    "\n",
    "![image.png](attachment:image.png)\n",
    "\n",
    "Input: board =\n",
    "\n",
    "[[\"5\",\"3\",\".\",\".\",\"7\",\".\",\".\",\".\",\".\"]\n",
    ",[\"6\",\".\",\".\",\"1\",\"9\",\"5\",\".\",\".\",\".\"]\n",
    ",[\".\",\"9\",\"8\",\".\",\".\",\".\",\".\",\"6\",\".\"]\n",
    ",[\"8\",\".\",\".\",\".\",\"6\",\".\",\".\",\".\",\"3\"]\n",
    ",[\"4\",\".\",\".\",\"8\",\".\",\"3\",\".\",\".\",\"1\"]\n",
    ",[\"7\",\".\",\".\",\".\",\"2\",\".\",\".\",\".\",\"6\"]\n",
    ",[\".\",\"6\",\".\",\".\",\".\",\".\",\"2\",\"8\",\".\"]\n",
    ",[\".\",\".\",\".\",\"4\",\"1\",\"9\",\".\",\".\",\"5\"]\n",
    ",[\".\",\".\",\".\",\".\",\"8\",\".\",\".\",\"7\",\"9\"]]\n",
    "\n",
    "Output: true\n",
    "\n",
    "Constraints:\n",
    "\n",
    "board.length == 9\n",
    "\n",
    "board[i].length == 9\n",
    "\n",
    "board[i][j] is a digit or '.'."
   ]
  },
  {
   "cell_type": "code",
   "execution_count": null,
   "id": "186820d8",
   "metadata": {},
   "outputs": [],
   "source": [
    "def isValidSudoku(self, board):\n",
    "    \"\"\"\n",
    "    :type board: List[List[str]]\n",
    "    :rtype: bool\n",
    "    \"\"\""
   ]
  },
  {
   "attachments": {
    "image.png": {
     "image/png": "[encoded data removed]"
    }
   },
   "cell_type": "markdown",
   "id": "60c3548d",
   "metadata": {},
   "source": [
    "## Rotate Image\n",
    "You are given an n x n 2D matrix representing an image, rotate the image by 90 degrees (clockwise).\n",
    "\n",
    "You have to rotate the image in-place, which means you have to modify the input 2D matrix directly. DO NOT allocate another 2D matrix and do the rotation.\n",
    "\n",
    "Example 1:\n",
    "\n",
    "![image.png](attachment:image.png)\n",
    "\n",
    "Input: matrix = [[1,2,3],[4,5,6],[7,8,9]]\n",
    "\n",
    "Output: [[7,4,1],[8,5,2],[9,6,3]]\n",
    "\n",
    "Example 4:\n",
    "\n",
    "Input: matrix = [[1,2],[3,4]]\n",
    "\n",
    "Output: [[3,1],[4,2]]\n",
    "\n",
    "Constraints:\n",
    "\n",
    "matrix.length == n\n",
    "\n",
    "matrix[i].length == n\n",
    "\n",
    "1 <= n <= 20\n",
    "\n",
    "-1000 <= matrix[i][j] <= 1000"
   ]
  },
  {
   "cell_type": "code",
   "execution_count": null,
   "id": "a3da76a2",
   "metadata": {},
   "outputs": [],
   "source": [
    "def rotate(self, matrix):\n",
    "    \"\"\"\n",
    "    :type matrix: List[List[int]]\n",
    "    :rtype: None Do not return anything, modify matrix in-place instead.\n",
    "    \"\"\""
   ]
  }
 ],
 "metadata": {
  "kernelspec": {
   "display_name": "Python 3",
   "language": "python",
   "name": "python3"
  },
  "language_info": {
   "codemirror_mode": {
    "name": "ipython",
    "version": 3
   },
   "file_extension": ".py",
   "mimetype": "text/x-python",
   "name": "python",
   "nbconvert_exporter": "python",
   "pygments_lexer": "ipython3",
   "version": "3.8.8"
  }
 },
 "nbformat": 4,
 "nbformat_minor": 5
}
