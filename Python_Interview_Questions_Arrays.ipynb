{
 "cells": [
  {
   "cell_type": "markdown",
   "id": "9b708db9",
   "metadata": {},
   "source": [
    "### Remove Duplicates from Sorted Array\n",
    "Given an integer array nums sorted in non-decreasing order, remove the duplicates in-place such that each unique element appears only once. The relative order of the elements should be kept the same.\n",
    "\n",
    "Since it is impossible to change the length of the array in some languages, you must instead have the result be placed in the first part of the array nums. More formally, if there are k elements after removing the duplicates, then the first k elements of nums should hold the final result. It does not matter what you leave beyond the first k elements.\n",
    "\n",
    "Return k after placing the final result in the first k slots of nums.\n",
    "\n",
    "Do not allocate extra space for another array. You must do this by modifying the input array in-place with O(1) extra memory.\n",
    "\n",
    "Custom Judge:\n",
    "\n",
    "The judge will test your solution with the following code:\n",
    "\n",
    "Input: nums = [1,1,2]\n",
    "Output: 2, nums = [1,2,_]\n",
    "Explanation: Your function should return k = 2, with the first two elements of nums being 1 and 2 respectively.\n",
    "It does not matter what you leave beyond the returned k (hence they are underscores).\n",
    "\n",
    "Credits to the problem can be found from leetcode.com"
   ]
  },
  {
   "cell_type": "code",
   "execution_count": 13,
   "id": "563a4371",
   "metadata": {},
   "outputs": [],
   "source": [
    "def removeduplicate(array):\n",
    "    array.sort()\n",
    "    i=0\n",
    "    while i < len(array)-1:\n",
    "        if array[i] == array[i+1]:\n",
    "            del array[i]\n",
    "        else:\n",
    "            i += 1\n",
    "    return array"
   ]
  },
  {
   "cell_type": "code",
   "execution_count": 14,
   "id": "3b466033",
   "metadata": {},
   "outputs": [
    {
     "data": {
      "text/plain": [
       "[1, 2, 3, 4]"
      ]
     },
     "execution_count": 14,
     "metadata": {},
     "output_type": "execute_result"
    }
   ],
   "source": [
    "delete_duplicate = [1,1,2,3,3,4,4,4]\n",
    "removeduplicate(delete_duplicate)"
   ]
  },
  {
   "cell_type": "code",
   "execution_count": 15,
   "id": "ef518411",
   "metadata": {},
   "outputs": [
    {
     "data": {
      "text/plain": [
       "[1, 2, 3, 5, 6]"
      ]
     },
     "execution_count": 15,
     "metadata": {},
     "output_type": "execute_result"
    }
   ],
   "source": [
    "delete_duplicate = [3,5,6,2,2,1,1,1,6,5]\n",
    "removeduplicate(delete_duplicate)"
   ]
  },
  {
   "cell_type": "markdown",
   "id": "dfc03b7b",
   "metadata": {},
   "source": [
    "### Identify Duplicates\n",
    "Identify the elements in the arrary that are duplicates and return them in a new array "
   ]
  },
  {
   "cell_type": "code",
   "execution_count": 23,
   "id": "ef3828ad",
   "metadata": {},
   "outputs": [],
   "source": [
    "def identifyduplicates(array):\n",
    "    array.sort()\n",
    "    duplicates=[]\n",
    "    i=0\n",
    "    while i < len(array)-1:\n",
    "        if array[i] == array[i+1]:\n",
    "            duplicates.append(array[i])\n",
    "            i += 1\n",
    "        else:\n",
    "            i += 1\n",
    "    j=0\n",
    "    while j < len(duplicates)-1:\n",
    "        if duplicates[j] == duplicates[j+1]:\n",
    "            del duplicates[j]\n",
    "        else:\n",
    "            j += 1\n",
    "    return duplicates\n",
    "        "
   ]
  },
  {
   "cell_type": "code",
   "execution_count": 24,
   "id": "992e7d98",
   "metadata": {},
   "outputs": [
    {
     "data": {
      "text/plain": [
       "[1, 2, 5, 6]"
      ]
     },
     "execution_count": 24,
     "metadata": {},
     "output_type": "execute_result"
    }
   ],
   "source": [
    "id_duplicate = [3,5,6,2,2,1,1,1,6,5]\n",
    "identifyduplicates(id_duplicate)"
   ]
  },
  {
   "cell_type": "code",
   "execution_count": null,
   "id": "6f687cef",
   "metadata": {},
   "outputs": [],
   "source": []
  }
 ],
 "metadata": {
  "kernelspec": {
   "display_name": "Python 3",
   "language": "python",
   "name": "python3"
  },
  "language_info": {
   "codemirror_mode": {
    "name": "ipython",
    "version": 3
   },
   "file_extension": ".py",
   "mimetype": "text/x-python",
   "name": "python",
   "nbconvert_exporter": "python",
   "pygments_lexer": "ipython3",
   "version": "3.8.8"
  }
 },
 "nbformat": 4,
 "nbformat_minor": 5
}
